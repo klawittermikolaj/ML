{
 "cells": [
  {
   "cell_type": "code",
   "execution_count": 13,
   "id": "12dfcbef",
   "metadata": {},
   "outputs": [],
   "source": [
    "import random\n",
    "\n",
    "def list_manipulation() -> None:\n",
    "\n",
    "    #Creating fruits name\n",
    "    fruit_names = [\"Grapefruit\", \"Cherries\", \"Bananas\", \"Kiwi\", \"Orange\"]\n",
    "    \n",
    "    #Extending fruit list with two vegatables\n",
    "    for i in [\"Beetroot\", \"Chilli peppers\"]:\n",
    "        fruit_names.append(i)\n",
    "        \n",
    "    #Shuffling the list\n",
    "    random.shuffle(fruit_names)\n",
    "    \n",
    "    #Finding the first vegetable\n",
    "    vegetable_1 = \"Beetroot\"\n",
    "    vegetable_2 = \"Chilli peppers\"\n",
    "    for i in fruit_names:\n",
    "        if i == vegetable_1 or i == vegetable_2:\n",
    "            print(\"The first vegetable in list is\", i, \"\\n\")\n",
    "            break\n",
    "    \n",
    "    #Revmoving one fruit\n",
    "    fruit_names.remove(\"Cherries\")\n",
    "    \n",
    "    #Print list\n",
    "    print(\"The rest fruits and vegetable\", fruit_names, \"\\n\")\n",
    "    \n",
    "    #Sorting the list\n",
    "    fruit_names.sort()\n",
    "    \n",
    "    #Printing in loop\n",
    "    for j in fruit_names:\n",
    "        print(j)\n",
    "        \n",
    "    #No able to reach the same results in each run because we are suffling the list."
   ]
  },
  {
   "cell_type": "code",
   "execution_count": 14,
   "id": "9c5243cd",
   "metadata": {},
   "outputs": [
    {
     "name": "stdout",
     "output_type": "stream",
     "text": [
      "The first vegetable in list is Chilli peppers \n",
      "\n",
      "The rest fruits and vegetable ['Grapefruit', 'Kiwi', 'Orange', 'Chilli peppers', 'Beetroot', 'Bananas'] \n",
      "\n",
      "Bananas\n",
      "Beetroot\n",
      "Chilli peppers\n",
      "Grapefruit\n",
      "Kiwi\n",
      "Orange\n"
     ]
    }
   ],
   "source": [
    "list_manipulation()"
   ]
  },
  {
   "cell_type": "code",
   "execution_count": null,
   "id": "f363f65d",
   "metadata": {},
   "outputs": [],
   "source": []
  },
  {
   "cell_type": "code",
   "execution_count": null,
   "id": "1f4b373e",
   "metadata": {},
   "outputs": [],
   "source": []
  }
 ],
 "metadata": {
  "kernelspec": {
   "display_name": "Python [conda env:pythonProject] *",
   "language": "python",
   "name": "conda-env-pythonProject-py"
  },
  "language_info": {
   "codemirror_mode": {
    "name": "ipython",
    "version": 3
   },
   "file_extension": ".py",
   "mimetype": "text/x-python",
   "name": "python",
   "nbconvert_exporter": "python",
   "pygments_lexer": "ipython3",
   "version": "3.8.8"
  }
 },
 "nbformat": 4,
 "nbformat_minor": 5
}
