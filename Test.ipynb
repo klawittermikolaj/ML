{
 "cells": [
  {
   "cell_type": "code",
   "execution_count": 1,
   "id": "4879ce9a",
   "metadata": {},
   "outputs": [],
   "source": [
    "import pandas as pd\n",
    "import numpy as np\n",
    "import sklearn\n",
    "import os\n",
    "import matplotlib.pyplot as plt\n",
    "from sklearn.metrics import accuracy_score"
   ]
  },
  {
   "cell_type": "code",
   "execution_count": 2,
   "id": "ec435557",
   "metadata": {},
   "outputs": [],
   "source": [
    "from sklearn.model_selection import train_test_split\n",
    "from sklearn.datasets import load_wine\n",
    "from sklearn.dummy import DummyClassifier\n",
    "from sklearn.neighbors import KNeighborsClassifier\n",
    "from joblib import Memory\n",
    "from sklearn.preprocessing import StandardScaler\n",
    "from matplotlib.pyplot import scatter"
   ]
  },
  {
   "cell_type": "code",
   "execution_count": 3,
   "id": "7f16e9d1",
   "metadata": {},
   "outputs": [],
   "source": [
    "wine = load_wine()\n",
    "features, target = wine.data, wine.target"
   ]
  },
  {
   "cell_type": "code",
   "execution_count": 4,
   "id": "4de9c6ff",
   "metadata": {},
   "outputs": [],
   "source": [
    "X_train, X_test, y_train, y_test = train_test_split(features, target)"
   ]
  },
  {
   "cell_type": "code",
   "execution_count": 5,
   "id": "b1e55bdb",
   "metadata": {},
   "outputs": [],
   "source": [
    "scaler = StandardScaler().fit(X_train)\n",
    "X_test_std = scaler.transform(X_test)\n",
    "X_train_std = scaler.transform(X_train)"
   ]
  },
  {
   "cell_type": "code",
   "execution_count": 6,
   "id": "440778f6",
   "metadata": {},
   "outputs": [],
   "source": [
    "dummy_clf = DummyClassifier()"
   ]
  },
  {
   "cell_type": "code",
   "execution_count": 7,
   "id": "1eff96be",
   "metadata": {},
   "outputs": [
    {
     "name": "stdout",
     "output_type": "stream",
     "text": [
      "dummy TEST score: 0.4222222222222222\n"
     ]
    }
   ],
   "source": [
    "dummy_clf.fit(X_test_std, y_test)\n",
    "print(f\"dummy TEST score: {dummy_clf.score(X_test_std, y_test)}\")"
   ]
  },
  {
   "cell_type": "code",
   "execution_count": 8,
   "id": "bab1df85",
   "metadata": {},
   "outputs": [
    {
     "name": "stdout",
     "output_type": "stream",
     "text": [
      "dummy TRAIN score: 0.43609022556390975\n"
     ]
    }
   ],
   "source": [
    "dummy_clf.fit(X_train_std, y_train)\n",
    "print(f\"dummy TRAIN score: {dummy_clf.score(X_train_std, y_train)}\")"
   ]
  },
  {
   "cell_type": "code",
   "execution_count": 9,
   "id": "88e2228d",
   "metadata": {},
   "outputs": [],
   "source": [
    "k_test = {}\n",
    "k_train = {}"
   ]
  },
  {
   "cell_type": "code",
   "execution_count": 10,
   "id": "6f1b5e5c",
   "metadata": {},
   "outputs": [],
   "source": [
    "for i in range(1, 21):\n",
    "    kneighbor_clf = KNeighborsClassifier(n_neighbors=i)\n",
    "    kneighbor_clf.fit(X_test_std, y_test)\n",
    "    k_test[i] = kneighbor_clf.score(X_test_std, y_test)\n",
    "    kneighbor_clf.fit(X_train_std, y_train)\n",
    "    k_train[i] = kneighbor_clf.score(X_train_std, y_train)"
   ]
  },
  {
   "cell_type": "code",
   "execution_count": 11,
   "id": "d885c380",
   "metadata": {},
   "outputs": [
    {
     "name": "stdout",
     "output_type": "stream",
     "text": [
      "Kneighbor TEST score for 1 neighbors: 1.0\n",
      "Kneighbor TEST score for 2 neighbors: 0.9111111111111111\n",
      "Kneighbor TEST score for 3 neighbors: 0.9555555555555556\n",
      "Kneighbor TEST score for 4 neighbors: 0.9333333333333333\n",
      "Kneighbor TEST score for 5 neighbors: 0.9333333333333333\n",
      "Kneighbor TEST score for 6 neighbors: 0.9111111111111111\n",
      "Kneighbor TEST score for 7 neighbors: 0.8888888888888888\n",
      "Kneighbor TEST score for 8 neighbors: 0.9555555555555556\n",
      "Kneighbor TEST score for 9 neighbors: 0.9111111111111111\n",
      "Kneighbor TEST score for 10 neighbors: 0.8888888888888888\n",
      "Kneighbor TEST score for 11 neighbors: 0.8666666666666667\n",
      "Kneighbor TEST score for 12 neighbors: 0.8666666666666667\n",
      "Kneighbor TEST score for 13 neighbors: 0.8888888888888888\n",
      "Kneighbor TEST score for 14 neighbors: 0.8888888888888888\n",
      "Kneighbor TEST score for 15 neighbors: 0.8666666666666667\n",
      "Kneighbor TEST score for 16 neighbors: 0.8666666666666667\n",
      "Kneighbor TEST score for 17 neighbors: 0.8444444444444444\n",
      "Kneighbor TEST score for 18 neighbors: 0.8444444444444444\n",
      "Kneighbor TEST score for 19 neighbors: 0.8444444444444444\n",
      "Kneighbor TEST score for 20 neighbors: 0.8222222222222222\n"
     ]
    }
   ],
   "source": [
    "for key, value in k_test.items():\n",
    "    print(f\"Kneighbor TEST score for {key} neighbors: {value}\")"
   ]
  },
  {
   "cell_type": "code",
   "execution_count": 12,
   "id": "39ecaa27",
   "metadata": {},
   "outputs": [
    {
     "name": "stdout",
     "output_type": "stream",
     "text": [
      "Kneighbor TRAIN score for 1 neighbors: 1.0\n",
      "Kneighbor TRAIN score for 2 neighbors: 0.9699248120300752\n",
      "Kneighbor TRAIN score for 3 neighbors: 0.9624060150375939\n",
      "Kneighbor TRAIN score for 4 neighbors: 0.9699248120300752\n",
      "Kneighbor TRAIN score for 5 neighbors: 0.9624060150375939\n",
      "Kneighbor TRAIN score for 6 neighbors: 0.9548872180451128\n",
      "Kneighbor TRAIN score for 7 neighbors: 0.9699248120300752\n",
      "Kneighbor TRAIN score for 8 neighbors: 0.9774436090225563\n",
      "Kneighbor TRAIN score for 9 neighbors: 0.9699248120300752\n",
      "Kneighbor TRAIN score for 10 neighbors: 0.9699248120300752\n",
      "Kneighbor TRAIN score for 11 neighbors: 0.9774436090225563\n",
      "Kneighbor TRAIN score for 12 neighbors: 0.9624060150375939\n",
      "Kneighbor TRAIN score for 13 neighbors: 0.9699248120300752\n",
      "Kneighbor TRAIN score for 14 neighbors: 0.9699248120300752\n",
      "Kneighbor TRAIN score for 15 neighbors: 0.9699248120300752\n",
      "Kneighbor TRAIN score for 16 neighbors: 0.9699248120300752\n",
      "Kneighbor TRAIN score for 17 neighbors: 0.9699248120300752\n",
      "Kneighbor TRAIN score for 18 neighbors: 0.9699248120300752\n",
      "Kneighbor TRAIN score for 19 neighbors: 0.9699248120300752\n",
      "Kneighbor TRAIN score for 20 neighbors: 0.9699248120300752\n"
     ]
    }
   ],
   "source": [
    "for key, value in k_train.items():\n",
    "    print(f\"Kneighbor TRAIN score for {key} neighbors: {value}\")"
   ]
  },
  {
   "cell_type": "code",
   "execution_count": 13,
   "id": "032754eb",
   "metadata": {},
   "outputs": [
    {
     "data": {
      "image/png": "[encoded data removed]",
      "text/plain": [
       "<Figure size 432x288 with 1 Axes>"
      ]
     },
     "metadata": {
      "needs_background": "light"
     },
     "output_type": "display_data"
    }
   ],
   "source": [
    "x, y = k_test.keys(), k_test.values()\n",
    "x1, y1 = k_train.keys(), k_train.values()\n",
    "scatter(x, y, c=\"#7f7f7f\")\n",
    "scatter(x1, y1)\n",
    "plt.legend(['test', 'train'])\n",
    "plt.show()"
   ]
  },
  {
   "cell_type": "code",
   "execution_count": null,
   "id": "d06abb44",
   "metadata": {},
   "outputs": [],
   "source": []
  }
 ],
 "metadata": {
  "kernelspec": {
   "display_name": "Python [conda env:pythonProject] *",
   "language": "python",
   "name": "conda-env-pythonProject-py"
  },
  "language_info": {
   "codemirror_mode": {
    "name": "ipython",
    "version": 3
   },
   "file_extension": ".py",
   "mimetype": "text/x-python",
   "name": "python",
   "nbconvert_exporter": "python",
   "pygments_lexer": "ipython3",
   "version": "3.8.8"
  }
 },
 "nbformat": 4,
 "nbformat_minor": 5
}
