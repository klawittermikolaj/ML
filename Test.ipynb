{
 "cells": [
  {
   "cell_type": "code",
   "execution_count": 37,
   "id": "4879ce9a",
   "metadata": {},
   "outputs": [],
   "source": [
    "import pandas as pd\n",
    "import numpy as np\n",
    "import sklearn\n",
    "import os\n",
    "import matplotlib.pyplot as plt\n",
    "from sklearn.metrics import accuracy_score\n",
    "from sklearn.model_selection import train_test_split\n",
    "from sklearn.datasets import load_wine\n",
    "from sklearn.dummy import DummyClassifier\n",
    "from sklearn.neighbors import KNeighborsClassifier\n",
    "from joblib import Memory\n",
    "from sklearn.preprocessing import StandardScaler\n",
    "from matplotlib.pyplot import scatter"
   ]
  },
  {
   "cell_type": "code",
   "execution_count": 38,
   "id": "7f16e9d1",
   "metadata": {},
   "outputs": [],
   "source": [
    "data = load_wine()\n",
    "x, y = data.data, data.target"
   ]
  },
  {
   "cell_type": "code",
   "execution_count": 39,
   "id": "4de9c6ff",
   "metadata": {},
   "outputs": [],
   "source": [
    "X_train, X_test, y_train, y_test = train_test_split(x, y)\n",
    "#https://scikit-learn.org/stable/modules/generated/sklearn.model_selection.train_test_split.html"
   ]
  },
  {
   "cell_type": "code",
   "execution_count": 40,
   "id": "b1e55bdb",
   "metadata": {},
   "outputs": [],
   "source": [
    "scaler = StandardScaler().fit(X_train)\n",
    "X_test_std = scaler.transform(X_test)\n",
    "X_train_std = scaler.transform(X_train)\n",
    "#copy and paste from chat"
   ]
  },
  {
   "cell_type": "code",
   "execution_count": 41,
   "id": "440778f6",
   "metadata": {},
   "outputs": [],
   "source": [
    "dummy_clf = DummyClassifier()\n",
    "#https://scikit-learn.org/stable/modules/generated/sklearn.dummy.DummyClassifier.html"
   ]
  },
  {
   "cell_type": "code",
   "execution_count": 48,
   "id": "bab1df85",
   "metadata": {
    "scrolled": true
   },
   "outputs": [
    {
     "name": "stdout",
     "output_type": "stream",
     "text": [
      "TEST score: 0.4222222222222222\n",
      "TRAIN score: 0.39849624060150374\n"
     ]
    }
   ],
   "source": [
    "dummy_clf.fit(X_test_std, y_test)\n",
    "print(f\"TEST score: {dummy_clf.score(X_test_std, y_test)}\")\n",
    "dummy_clf.fit(X_train_std, y_train)\n",
    "print(f\"TRAIN score: {dummy_clf.score(X_train_std, y_train)}\")\n",
    "#https://scikit-learn.org/stable/modules/generated/sklearn.dummy.DummyClassifier.html"
   ]
  },
  {
   "cell_type": "code",
   "execution_count": 51,
   "id": "88e2228d",
   "metadata": {},
   "outputs": [],
   "source": [
    "k_test = {}\n",
    "k_train = {}\n",
    "#copy and paste from chat"
   ]
  },
  {
   "cell_type": "code",
   "execution_count": 59,
   "id": "6f1b5e5c",
   "metadata": {},
   "outputs": [],
   "source": [
    "for i in range(1, 12):\n",
    "    kneighbor_clf = KNeighborsClassifier(n_neighbors=i)\n",
    "    kneighbor_clf.fit(X_test_std, y_test)\n",
    "    k_test[i] = kneighbor_clf.score(X_test_std, y_test)\n",
    "    kneighbor_clf.fit(X_train_std, y_train)\n",
    "    k_train[i] = kneighbor_clf.score(X_train_std, y_train)\n",
    "#https://scikit-learn.org/stable/modules/generated/sklearn.neighbors.KNeighborsClassifier.html\n",
    "#loop is in range 12 because we want to check 10 scores. The first one is 100%"
   ]
  },
  {
   "cell_type": "code",
   "execution_count": 65,
   "id": "d885c380",
   "metadata": {},
   "outputs": [
    {
     "name": "stdout",
     "output_type": "stream",
     "text": [
      "TEST score (1, 1.0)\n",
      "TEST score (2, 0.8888888888888888)\n",
      "TEST score (3, 0.9333333333333333)\n",
      "TEST score (4, 0.9111111111111111)\n",
      "TEST score (5, 0.9555555555555556)\n",
      "TEST score (6, 0.9333333333333333)\n",
      "TEST score (7, 0.9555555555555556)\n",
      "TEST score (8, 0.9111111111111111)\n",
      "TEST score (9, 0.9333333333333333)\n",
      "TEST score (10, 0.9111111111111111)\n",
      "TEST score (11, 0.9333333333333333)\n",
      "\n",
      "TRAIN score(1, 1.0)\n",
      "TRAIN score(2, 0.9849624060150376)\n",
      "TRAIN score(3, 0.9774436090225563)\n",
      "TRAIN score(4, 0.9774436090225563)\n",
      "TRAIN score(5, 0.9774436090225563)\n",
      "TRAIN score(6, 0.9774436090225563)\n",
      "TRAIN score(7, 0.9624060150375939)\n",
      "TRAIN score(8, 0.9774436090225563)\n",
      "TRAIN score(9, 0.9699248120300752)\n",
      "TRAIN score(10, 0.9624060150375939)\n",
      "TRAIN score(11, 0.9699248120300752)\n"
     ]
    }
   ],
   "source": [
    "for value in k_test.items():\n",
    "    print(f\"TEST score {value}\")\n",
    "\n",
    "print(f\"\")    \n",
    "    \n",
    "for value in k_train.items():\n",
    "    print(f\"TRAIN score{value}\")"
   ]
  },
  {
   "cell_type": "code",
   "execution_count": 66,
   "id": "032754eb",
   "metadata": {},
   "outputs": [
    {
     "data": {
      "image/png": "[encoded data removed]",
      "text/plain": [
       "<Figure size 432x288 with 1 Axes>"
      ]
     },
     "metadata": {
      "needs_background": "light"
     },
     "output_type": "display_data"
    }
   ],
   "source": [
    "plot_x, plot_y = k_test.keys(), k_test.values()\n",
    "plot_x1, plot_y1 = k_train.keys(), k_train.values()\n",
    "plt.scatter(plot_x, plot_y)\n",
    "plt.scatter(plot_x1, plot_y1)\n",
    "plt.legend(['test', 'train'])\n",
    "plt.show()\n",
    "#https://www.w3schools.com/python/python_ml_train_test.asp"
   ]
  },
  {
   "cell_type": "code",
   "execution_count": null,
   "id": "d06abb44",
   "metadata": {},
   "outputs": [],
   "source": []
  },
  {
   "cell_type": "code",
   "execution_count": null,
   "id": "0be0b3c5",
   "metadata": {},
   "outputs": [],
   "source": []
  }
 ],
 "metadata": {
  "kernelspec": {
   "display_name": "Python [conda env:pythonProject] *",
   "language": "python",
   "name": "conda-env-pythonProject-py"
  },
  "language_info": {
   "codemirror_mode": {
    "name": "ipython",
    "version": 3
   },
   "file_extension": ".py",
   "mimetype": "text/x-python",
   "name": "python",
   "nbconvert_exporter": "python",
   "pygments_lexer": "ipython3",
   "version": "3.8.8"
  }
 },
 "nbformat": 4,
 "nbformat_minor": 5
}
