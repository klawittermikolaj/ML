{
 "cells": [
  {
   "cell_type": "code",
   "execution_count": 31,
   "id": "9f21a0e6",
   "metadata": {},
   "outputs": [],
   "source": [
    "import pandas as pd\n",
    "import numpy as np\n",
    "import sklearn\n",
    "import os\n",
    "import matplotlib.pyplot as plt\n",
    "from sklearn import linear_model\n",
    "from sklearn.metrics import accuracy_score\n",
    "from sklearn.model_selection import train_test_split\n",
    "from sklearn.datasets import load_wine\n",
    "from sklearn.dummy import DummyClassifier\n",
    "from sklearn.neighbors import KNeighborsClassifier\n",
    "from joblib import Memory\n",
    "from sklearn.preprocessing import StandardScaler\n",
    "from matplotlib.pyplot import scatter\n",
    "from sklearn.dummy import DummyRegressor\n",
    "from sklearn.linear_model import RidgeCV\n",
    "from sklearn.linear_model import LassoCV\n",
    "from sklearn.linear_model import Lasso\n",
    "from sklearn.metrics import r2_score\n",
    "from sklearn.linear_model import Ridge\n",
    "from sklearn.metrics import mean_squared_error\n",
    "from sklearn.linear_model import LinearRegression\n",
    "from sklearn.model_selection import KFold\n",
    "from sklearn.model_selection import cross_val_score\n",
    "from sklearn.model_selection import StratifiedKFold"
   ]
  },
  {
   "cell_type": "code",
   "execution_count": 32,
   "id": "0d024b88",
   "metadata": {},
   "outputs": [],
   "source": [
    "wine = load_wine()\n",
    "X, y = wine.data, wine.target"
   ]
  },
  {
   "cell_type": "code",
   "execution_count": 33,
   "id": "cfbc311a",
   "metadata": {},
   "outputs": [],
   "source": [
    "#X_train, X_test, y_train, y_test = train_test_split(x, y)"
   ]
  },
  {
   "cell_type": "code",
   "execution_count": 34,
   "id": "edd57b60",
   "metadata": {},
   "outputs": [],
   "source": [
    "#scaler = StandardScaler().fit(X_train)\n",
    "#X_test_std = scaler.transform(X_test)\n",
    "#X_train_std = scaler.transform(X_train)"
   ]
  },
  {
   "cell_type": "code",
   "execution_count": 35,
   "id": "4c3eb2a2",
   "metadata": {},
   "outputs": [],
   "source": [
    "def test_random_and_stratify():\n",
    "    \n",
    "    list_random = [42, 42, 224, 224]\n",
    "    list_stratify = [None, y, None, y]\n",
    "    list_label_stratify = [\"No\", \"Target\", \"No\", \"Target\"]\n",
    "    \n",
    "    for r, s, l in zip(list_random, list_stratify, list_label_stratify):\n",
    "        X_train, X_test, y_train, y_test = train_test_split(X, y, test_size = 0.2, random_state=r, stratify=s)\n",
    "        \n",
    "        scaler = StandardScaler().fit(X_train)\n",
    "        X_test_std = scaler.transform(X_test)\n",
    "        X_train_std = scaler.transform(X_train)\n",
    "        \n",
    "        model = KNeighborsClassifier()\n",
    "        model.fit(X_train_std, y_train)\n",
    "        print(model.score(X_test_std, y_test), f\"random {r} and strafity {l}\")"
   ]
  },
  {
   "cell_type": "code",
   "execution_count": 36,
   "id": "0d190362",
   "metadata": {
    "scrolled": true
   },
   "outputs": [
    {
     "name": "stdout",
     "output_type": "stream",
     "text": [
      "0.9444444444444444 random 42 and strafity No\n",
      "0.9722222222222222 random 42 and strafity Target\n",
      "1.0 random 224 and strafity No\n",
      "0.9444444444444444 random 224 and strafity Target\n"
     ]
    }
   ],
   "source": [
    "test_random_and_stratify()"
   ]
  },
  {
   "cell_type": "code",
   "execution_count": 45,
   "id": "644f29b1",
   "metadata": {},
   "outputs": [],
   "source": [
    "def cross_validation():\n",
    "    \n",
    "    dummy_train = []\n",
    "    dummy_test = []\n",
    "    train_count = []\n",
    "    test_count = []\n",
    "    train_shape = []\n",
    "    test_shape = []\n",
    "    \n",
    "    \n",
    "    wine_X, wine_y = load_wine(return_X_y=True)\n",
    "    \n",
    "    skf = StratifiedKFold(n_splits=5, random_state=None, shuffle=False)\n",
    "    \n",
    "    #skf.get_n_splits(X,y)\n",
    "    #print(skf)\n",
    "    for train_index, test_index in skf.split(X, y):\n",
    "        \n",
    "        X_train, X_test = X[train_index], X[test_index]\n",
    "        y_train, y_test = y[train_index], y[test_index]\n",
    "        \n",
    "        y_train_count = np.bincount(y_train)\n",
    "        y_test_count = np.bincount(y_test)\n",
    "        y_train_shape = np.shape(y_train)\n",
    "        y_test_shape = np.shape(y_test)\n",
    "        \n",
    "        dm_train_clf = DummyClassifier()\n",
    "        dm_train_clf = dm_train_clf.fit(X_train, y_train)\n",
    "        \n",
    "        dm_test_clf = DummyClassifier()\n",
    "        dm_test_clf = dm_test_clf.fit(X_test, y_test)\n",
    "        \n",
    "        dummy_train_scr = dm_train_clf.score(X_train, y_train)\n",
    "        dummy_test_scr = dm_test_clf.score(X_test, y_test)\n",
    "        \n",
    "        dummy_train.append(dummy_train_scr)\n",
    "        dummy_test.append(dummy_test_scr)\n",
    "        \n",
    "        train_count.append(y_train_count)\n",
    "        test_count.append(y_test_count)\n",
    "        train_shape.append(y_train_shape)\n",
    "        test_shape.append(y_test_shape)\n",
    " \n",
    "\n",
    "    print(\"Train score\", dummy_train, \"\\n\")\n",
    "    print(\"Test score\", dummy_test, \"\\n\")\n",
    "    print(\"Train count\", train_count, \"\\n\")\n",
    "    print(\"Test count\", test_count, \"\\n\")\n",
    "    print(\"Train shape\", train_shape, \"\\n\")\n",
    "    print(\"Test shape\", test_shape, \"\\n\")\n",
    "    \n"
   ]
  },
  {
   "cell_type": "code",
   "execution_count": 46,
   "id": "9d0253fb",
   "metadata": {},
   "outputs": [
    {
     "name": "stdout",
     "output_type": "stream",
     "text": [
      "Train score [0.4014084507042254, 0.4014084507042254, 0.4014084507042254, 0.3986013986013986, 0.3916083916083916] \n",
      "\n",
      "Test score [0.3888888888888889, 0.3888888888888889, 0.3888888888888889, 0.4, 0.42857142857142855] \n",
      "\n",
      "Train count [array([47, 57, 38], dtype=int64), array([47, 57, 38], dtype=int64), array([47, 57, 38], dtype=int64), array([47, 57, 39], dtype=int64), array([48, 56, 39], dtype=int64)] \n",
      "\n",
      "Test count [array([12, 14, 10], dtype=int64), array([12, 14, 10], dtype=int64), array([12, 14, 10], dtype=int64), array([12, 14,  9], dtype=int64), array([11, 15,  9], dtype=int64)] \n",
      "\n",
      "Train shape [(142,), (142,), (142,), (143,), (143,)] \n",
      "\n",
      "Test shape [(36,), (36,), (36,), (35,), (35,)] \n",
      "\n"
     ]
    }
   ],
   "source": [
    "cross_validation()"
   ]
  },
  {
   "cell_type": "code",
   "execution_count": null,
   "id": "e94a127c",
   "metadata": {},
   "outputs": [],
   "source": []
  }
 ],
 "metadata": {
  "kernelspec": {
   "display_name": "Python [conda env:pythonProject] *",
   "language": "python",
   "name": "conda-env-pythonProject-py"
  },
  "language_info": {
   "codemirror_mode": {
    "name": "ipython",
    "version": 3
   },
   "file_extension": ".py",
   "mimetype": "text/x-python",
   "name": "python",
   "nbconvert_exporter": "python",
   "pygments_lexer": "ipython3",
   "version": "3.8.8"
  }
 },
 "nbformat": 4,
 "nbformat_minor": 5
}
