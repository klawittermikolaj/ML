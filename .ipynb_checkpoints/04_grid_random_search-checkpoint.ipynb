{
 "cells": [
  {
   "cell_type": "code",
   "execution_count": 38,
   "id": "7975107f",
   "metadata": {},
   "outputs": [
    {
     "ename": "ModuleNotFoundError",
     "evalue": "No module named 'hpsklearn'",
     "output_type": "error",
     "traceback": [
      "\u001b[1;31m---------------------------------------------------------------------------\u001b[0m",
      "\u001b[1;31mModuleNotFoundError\u001b[0m                       Traceback (most recent call last)",
      "\u001b[1;32m<ipython-input-38-f43fe742b54d>\u001b[0m in \u001b[0;36m<module>\u001b[1;34m\u001b[0m\n\u001b[0;32m      8\u001b[0m \u001b[1;32mfrom\u001b[0m \u001b[0msklearn\u001b[0m\u001b[1;33m.\u001b[0m\u001b[0mpipeline\u001b[0m \u001b[1;32mimport\u001b[0m \u001b[0mPipeline\u001b[0m\u001b[1;33m\u001b[0m\u001b[1;33m\u001b[0m\u001b[0m\n\u001b[0;32m      9\u001b[0m \u001b[1;32mfrom\u001b[0m \u001b[0msklearn\u001b[0m\u001b[1;33m.\u001b[0m\u001b[0mmodel_selection\u001b[0m \u001b[1;32mimport\u001b[0m \u001b[0mtrain_test_split\u001b[0m\u001b[1;33m\u001b[0m\u001b[1;33m\u001b[0m\u001b[0m\n\u001b[1;32m---> 10\u001b[1;33m \u001b[1;32mfrom\u001b[0m \u001b[0mhpsklearn\u001b[0m \u001b[1;32mimport\u001b[0m \u001b[0mHyperoptEstimator\u001b[0m\u001b[1;33m\u001b[0m\u001b[1;33m\u001b[0m\u001b[0m\n\u001b[0m\u001b[0;32m     11\u001b[0m \u001b[1;32mfrom\u001b[0m \u001b[0mhpsklearn\u001b[0m \u001b[1;32mimport\u001b[0m \u001b[0many_classifier\u001b[0m\u001b[1;33m\u001b[0m\u001b[1;33m\u001b[0m\u001b[0m\n\u001b[0;32m     12\u001b[0m \u001b[1;32mfrom\u001b[0m \u001b[0mhpsklearn\u001b[0m \u001b[1;32mimport\u001b[0m \u001b[0many_preprocessing\u001b[0m\u001b[1;33m\u001b[0m\u001b[1;33m\u001b[0m\u001b[0m\n",
      "\u001b[1;31mModuleNotFoundError\u001b[0m: No module named 'hpsklearn'"
     ]
    }
   ],
   "source": [
    "import numpy as np\n",
    "from sklearn.datasets import load_wine\n",
    "from sklearn.linear_model import LogisticRegression\n",
    "from sklearn.model_selection import GridSearchCV\n",
    "from sklearn.ensemble import RandomForestClassifier\n",
    "from sklearn.linear_model import LogisticRegression\n",
    "from sklearn.neighbors import KNeighborsClassifier\n",
    "from sklearn.pipeline import Pipeline\n",
    "from sklearn.model_selection import train_test_split\n",
    "from hpsklearn import HyperoptEstimator\n",
    "from hpsklearn import any_classifier\n",
    "from hpsklearn import any_preprocessing\n",
    "from hyperopt import tpe"
   ]
  },
  {
   "cell_type": "code",
   "execution_count": null,
   "id": "613eba31",
   "metadata": {},
   "outputs": [],
   "source": [
    "wine = load_wine()\n",
    "features = wine.data\n",
    "target = wine.target"
   ]
  },
  {
   "cell_type": "code",
   "execution_count": null,
   "id": "bf0b3a0a",
   "metadata": {},
   "outputs": [],
   "source": [
    "logistic = LogisticRegression(solver='liblinear', max_iter = 200)\n",
    "    \n",
    "penalty = ['l1', 'l2']\n",
    "    \n",
    "C = np.logspace(0, 10, 1000)\n",
    "    \n",
    "hyperparameters = dict(C=C, penalty=penalty)\n",
    "    \n",
    "gridsearch = GridSearchCV(logistic, hyperparameters, cv=5, verbose=1, n_jobs=-1)\n",
    "    \n",
    "best_model = gridsearch.fit(features, target)\n",
    "\n",
    "print('Best Penalty:', best_model.best_estimator_.get_params()['penalty'])\n",
    "print('Best C:', best_model.best_estimator_.get_params()['C'])"
   ]
  },
  {
   "cell_type": "code",
   "execution_count": null,
   "id": "0054e592",
   "metadata": {},
   "outputs": [],
   "source": [
    "randomizedsearch = RandomizedSearchCV(\n",
    "    logistic,\n",
    "    hyperparameters,\n",
    "    random_state=1,\n",
    "    n_iter=100,\n",
    "    cv=5,\n",
    "    verbose=1,\n",
    "    n_jobs=-1\n",
    "    )\n",
    "    \n",
    "    best_random_model = randomizedsearch.fit(features, target)\n",
    "    \n",
    "    print('Best Penalty:', best_random_model.best_estimator_.get_params()['penalty'])\n",
    "    print('Best C:', best_random_model.best_estimator_.get_params()['C'])"
   ]
  },
  {
   "cell_type": "code",
   "execution_count": 39,
   "id": "f8141287",
   "metadata": {},
   "outputs": [],
   "source": [
    "logistic = LogisticRegression(solver='liblinear', max_iter = 200)\n",
    "kneighbors = KNeighborsClassifier(n_neighbors=5)\n",
    "pipe = Pipeline([(\"classifier\", RandomForestClassifier())])\n",
    "\n",
    "search_space = [{\"classifier\": [logistic],\n",
    "                 \"classifier__penalty\": ['l1', 'l2'],\n",
    "                 \"classifier__C\": np.logspace(0, 4, 10)},\n",
    "                {\"classifier\": [RandomForestClassifier()],\n",
    "                 \"classifier__n_estimators\": [10, 100, 1000],\n",
    "                 \"classifier__max_features\": [1, 2, 3]},\n",
    "                {\"classifier\": [kneighbors],\n",
    "                 \"classifier__n_neighbors\": [3,5,10]}]"
   ]
  },
  {
   "cell_type": "code",
   "execution_count": 40,
   "id": "ae57adbb",
   "metadata": {},
   "outputs": [
    {
     "name": "stdout",
     "output_type": "stream",
     "text": [
      "Fitting 5 folds for each of 32 candidates, totalling 160 fits\n"
     ]
    }
   ],
   "source": [
    "gridsearch = GridSearchCV(pipe, search_space, cv=5, verbose=1, n_jobs=-1)\n",
    "\n",
    "best_model = gridsearch.fit(features, target)\n",
    "\n",
    "best_model.best_estimator_.get_params()[\"classifier\"]\n",
    "\n",
    "randomizedsearch_m = RandomizedSearchCV(\n",
    "    pipe,\n",
    "    search_space,\n",
    "    random_state=1,\n",
    "    n_iter=10,\n",
    "    cv=5,\n",
    "    verbose=1,\n",
    "    n_jobs=-1\n",
    "    )"
   ]
  },
  {
   "cell_type": "code",
   "execution_count": 41,
   "id": "5bcfcc81",
   "metadata": {},
   "outputs": [
    {
     "name": "stdout",
     "output_type": "stream",
     "text": [
      "Fitting 5 folds for each of 10 candidates, totalling 50 fits\n"
     ]
    },
    {
     "data": {
      "text/plain": [
       "RandomForestClassifier(max_features=1, n_estimators=1000)"
      ]
     },
     "execution_count": 41,
     "metadata": {},
     "output_type": "execute_result"
    }
   ],
   "source": [
    "best_random_model_m = randomizedsearch_m.fit(features, target)\n",
    "best_random_model_m.best_estimator_.get_params()[\"classifier\"]"
   ]
  },
  {
   "cell_type": "code",
   "execution_count": null,
   "id": "3125541a",
   "metadata": {},
   "outputs": [],
   "source": [
    "wine = load_wine()\n",
    "\n",
    "features = wine.data\n",
    "target = wine.target\n",
    "X_train, X_test, y_train, y_test = train_test_split(features, target, test_size=0.3, shuffle=True, random_state=42)\n",
    "\n",
    "model = HyperoptEstimator(\n",
    "    classifier=any_classifier('cla'),\n",
    "    preprocessing=any_preprocessing('pre'),\n",
    "    algo=tpe.suggest,\n",
    "    max_evals=50,\n",
    "    trial_timeout=30,\n",
    "    n_jobs=-1\n",
    "    )"
   ]
  },
  {
   "cell_type": "code",
   "execution_count": null,
   "id": "fce0867c",
   "metadata": {},
   "outputs": [],
   "source": [
    "model.fit(X_train, y_train)"
   ]
  },
  {
   "cell_type": "code",
   "execution_count": null,
   "id": "6306bcf1",
   "metadata": {},
   "outputs": [],
   "source": [
    "acc = model.score(X_test, y_test)\n",
    "print(\"Accuracy: %.3f\" % acc)"
   ]
  },
  {
   "cell_type": "code",
   "execution_count": null,
   "id": "72acff4e",
   "metadata": {},
   "outputs": [],
   "source": [
    "print(model.best_model())"
   ]
  },
  {
   "cell_type": "code",
   "execution_count": null,
   "id": "870d137b",
   "metadata": {},
   "outputs": [],
   "source": []
  },
  {
   "cell_type": "code",
   "execution_count": null,
   "id": "55eed366",
   "metadata": {},
   "outputs": [],
   "source": []
  }
 ],
 "metadata": {
  "kernelspec": {
   "display_name": "Python [conda env:pythonProject] *",
   "language": "python",
   "name": "conda-env-pythonProject-py"
  },
  "language_info": {
   "codemirror_mode": {
    "name": "ipython",
    "version": 3
   },
   "file_extension": ".py",
   "mimetype": "text/x-python",
   "name": "python",
   "nbconvert_exporter": "python",
   "pygments_lexer": "ipython3",
   "version": "3.8.8"
  }
 },
 "nbformat": 4,
 "nbformat_minor": 5
}
