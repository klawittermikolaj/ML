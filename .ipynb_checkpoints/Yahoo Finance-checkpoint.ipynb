{
 "cells": [
  {
   "cell_type": "code",
   "execution_count": 3,
   "id": "c010d0d6",
   "metadata": {},
   "outputs": [],
   "source": [
    "import pandas as pd\n",
    "import altair as alt"
   ]
  },
  {
   "cell_type": "code",
   "execution_count": 4,
   "id": "1eeab83c",
   "metadata": {},
   "outputs": [
    {
     "name": "stdout",
     "output_type": "stream",
     "text": [
      "            Date       Open       High        Low      Close  Adj Close  \\\n",
      "0     2016-05-27  22.850000  23.320000  22.850000  23.209999  21.825720   \n",
      "1     2016-05-31  23.309999  23.740000  23.180000  23.540001  22.136036   \n",
      "2     2016-06-01  23.400000  23.670000  23.320000  23.650000  22.239477   \n",
      "3     2016-06-02  23.760000  23.879999  23.670000  23.790001  22.371130   \n",
      "4     2016-06-03  23.639999  23.730000  23.350000  23.400000  22.004391   \n",
      "...          ...        ...        ...        ...        ...        ...   \n",
      "1253  2021-05-20  37.570000  38.209999  37.380001  37.950001  37.950001   \n",
      "1254  2021-05-21  38.139999  38.430000  38.029999  38.250000  38.250000   \n",
      "1255  2021-05-24  38.340000  38.610001  38.180000  38.250000  38.250000   \n",
      "1256  2021-05-25  38.230000  38.419998  37.220001  37.230000  37.230000   \n",
      "1257  2021-05-26  37.230000  37.700001  37.099998  37.490002  37.490002   \n",
      "\n",
      "      Volume  \n",
      "0     290500  \n",
      "1      82600  \n",
      "2      61800  \n",
      "3      62900  \n",
      "4      32200  \n",
      "...      ...  \n",
      "1253   62400  \n",
      "1254   55300  \n",
      "1255   56400  \n",
      "1256   68800  \n",
      "1257   60200  \n",
      "\n",
      "[1258 rows x 7 columns]\n"
     ]
    }
   ],
   "source": [
    "yahoo_finance = pd.read_csv('Yahoo.csv')\n",
    "print(yahoo_finance)"
   ]
  },
  {
   "cell_type": "code",
   "execution_count": null,
   "id": "b4387154",
   "metadata": {},
   "outputs": [],
   "source": []
  }
 ],
 "metadata": {
  "kernelspec": {
   "display_name": "Python 3",
   "language": "python",
   "name": "python3"
  },
  "language_info": {
   "codemirror_mode": {
    "name": "ipython",
    "version": 3
   },
   "file_extension": ".py",
   "mimetype": "text/x-python",
   "name": "python",
   "nbconvert_exporter": "python",
   "pygments_lexer": "ipython3",
   "version": "3.8.8"
  }
 },
 "nbformat": 4,
 "nbformat_minor": 5
}
