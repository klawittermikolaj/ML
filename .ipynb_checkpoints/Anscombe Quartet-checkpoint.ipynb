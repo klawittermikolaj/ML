{
 "cells": [
  {
   "cell_type": "code",
   "execution_count": 2,
   "id": "d20704d6",
   "metadata": {},
   "outputs": [
    {
     "name": "stdout",
     "output_type": "stream",
     "text": [
      "Created folder named Anscombe_Quarter_Exercise\n"
     ]
    },
    {
     "ename": "NameError",
     "evalue": "name 'ancsombe_dataset_download' is not defined",
     "output_type": "error",
     "traceback": [
      "\u001b[1;31m---------------------------------------------------------------------------\u001b[0m",
      "\u001b[1;31mNameError\u001b[0m                                 Traceback (most recent call last)",
      "\u001b[1;32m<ipython-input-2-b735b659874a>\u001b[0m in \u001b[0;36m<module>\u001b[1;34m\u001b[0m\n\u001b[0;32m     82\u001b[0m \u001b[1;33m\u001b[0m\u001b[0m\n\u001b[0;32m     83\u001b[0m \u001b[1;32mif\u001b[0m \u001b[0m__name__\u001b[0m \u001b[1;33m==\u001b[0m \u001b[1;34m\"__main__\"\u001b[0m\u001b[1;33m:\u001b[0m\u001b[1;33m\u001b[0m\u001b[1;33m\u001b[0m\u001b[0m\n\u001b[1;32m---> 84\u001b[1;33m     \u001b[0mmain\u001b[0m\u001b[1;33m(\u001b[0m\u001b[1;33m)\u001b[0m\u001b[1;33m\u001b[0m\u001b[1;33m\u001b[0m\u001b[0m\n\u001b[0m",
      "\u001b[1;32m<ipython-input-2-b735b659874a>\u001b[0m in \u001b[0;36mmain\u001b[1;34m()\u001b[0m\n\u001b[0;32m     77\u001b[0m     \"\"\"\n\u001b[0;32m     78\u001b[0m     \u001b[0mcreating_folder\u001b[0m\u001b[1;33m(\u001b[0m\u001b[1;34m\"Anscombe_Quarter_Exercise\"\u001b[0m\u001b[1;33m)\u001b[0m\u001b[1;33m\u001b[0m\u001b[1;33m\u001b[0m\u001b[0m\n\u001b[1;32m---> 79\u001b[1;33m     \u001b[0manscombe_df\u001b[0m \u001b[1;33m=\u001b[0m \u001b[0mancsombe_dataset_download\u001b[0m\u001b[1;33m(\u001b[0m\u001b[1;33m)\u001b[0m\u001b[1;33m\u001b[0m\u001b[1;33m\u001b[0m\u001b[0m\n\u001b[0m\u001b[0;32m     80\u001b[0m     \u001b[0manscombe_dataset_plots\u001b[0m\u001b[1;33m(\u001b[0m\u001b[0mannscombe_df\u001b[0m\u001b[1;33m)\u001b[0m\u001b[1;33m\u001b[0m\u001b[1;33m\u001b[0m\u001b[0m\n\u001b[0;32m     81\u001b[0m     \u001b[0manscombe_dataset_calculations\u001b[0m\u001b[1;33m(\u001b[0m\u001b[0mannscombe_df\u001b[0m\u001b[1;33m)\u001b[0m\u001b[1;33m\u001b[0m\u001b[1;33m\u001b[0m\u001b[0m\n",
      "\u001b[1;31mNameError\u001b[0m: name 'ancsombe_dataset_download' is not defined"
     ]
    }
   ],
   "source": [
    "import matplotlib.pyplot as plt\n",
    "import numpy as np\n",
    "import os\n",
    "import pandas as pd\n",
    "import seaborn as sns\n",
    "\n",
    "\n",
    "def creating_folder(Anscombe_Quarter_Exercise: str) -> None:\n",
    "    \"\"\"\n",
    "    Creating a new folder or showing information about existing folder\n",
    "\n",
    "    :param Anscombe_Quarter_Exercise:\n",
    "    :return: None\n",
    "    \"\"\"\n",
    "    if os.path.exists(Anscombe_Quarter_Exercise):\n",
    "        print(\"File exist\")\n",
    "    else:\n",
    "        os.makedirs(Anscombe_Quarter_Exercise)\n",
    "\n",
    "    print(\"Created folder named Anscombe_Quarter_Exercise\")\n",
    "\n",
    "\n",
    "def anscombe_dataset_download() -> pd.DataFrame:\n",
    "    \"\"\"\n",
    "    Download dataset from Anscombe Quarter\n",
    "\n",
    "    :param Anscombe DataFrame\n",
    "    :return: anscombe_df\n",
    "    \"\"\"\n",
    "    anscombe_df = sns.load_dataset(\"anscombe\")\n",
    "    print(anscombe_df)\n",
    "    return anscombe_df\n",
    "\n",
    "\n",
    "def anscombe_dataset_plots(anscombe_df: pd.DataFrame) -> print:\n",
    "    \"\"\"\n",
    "    Function which create 4 plots in one JPG\n",
    "\n",
    "    :param anscombe_df:\n",
    "    :return: Plot\n",
    "    \"\"\"\n",
    "    sns.lmplot(x=\"x\", y=\"y\", col=\"dataset\", hue=\"dataset\", data=anscombe_df,\n",
    "               col_wrap=2, palette=\"muted\", height=4)\n",
    "    plt.gcf().suptitle(\"Anscombe's Quartet\", x=0.5, y=1)\n",
    "    plt.savefig('Ascombe_Quarter_Exercise/anscombe_plot.jpg')\n",
    "    plt.show()\n",
    "    print(\"Created\")\n",
    "\n",
    "\n",
    "def anscombe_dataset_calculations(anscombe_df: pd.DataFrame) -> print:\n",
    "    \"\"\"\n",
    "    Function that calculate mean, variance, correlation and standard deviation\n",
    "\n",
    "    :param anscombe_df:\n",
    "    :return: X / Y: mean, std, var AND correalation beetween X Y\n",
    "    \"\"\"\n",
    "    grouped = anscombe_df.groupby('dataset')\n",
    "    scores_into_csv_file = pd.DataFrame(columns=['mean_x', 'std_x', 'mean_y', 'std_y', 'correlation', 'var_x', 'var_y'])\n",
    "    for key in grouped.groups.keys():\n",
    "        scores_into_csv_file.loc[key] = (\n",
    "            grouped.mean().loc[key]['x'],\n",
    "            np.round(grouped.mean().loc[key]['y'], 2),\n",
    "            np.round(grouped.std().loc[key]['x'], 5),\n",
    "            np.round(grouped.std().loc[key]['y'], 2),\n",
    "            np.round(grouped.corr().loc[(key, 'x')]['y'], 3),\n",
    "            np.round(grouped.var().loc[key]['x'], 5),\n",
    "            np.round(grouped.var().loc[key]['y'], 2),\n",
    "        )\n",
    "\n",
    "    scores_into_csv_file.to_csv('Anscombe_Quarter_Exercise/ascombe_calculations.csv')\n",
    "    print(\"Created CSV file named Anscombe_Calculations\")\n",
    "\n",
    "def main():\n",
    "    \"\"\"\n",
    "    Launching the program\n",
    "    :return:\n",
    "    \"\"\"\n",
    "    creating_folder(\"Anscombe_Quarter_Exercise\")\n",
    "    anscombe_df = anscombe_dataset_download()\n",
    "    anscombe_dataset_plots(annscombe_df)\n",
    "    anscombe_dataset_calculations(annscombe_df)\n",
    "\n",
    "if __name__ == \"__main__\":\n",
    "    main()"
   ]
  },
  {
   "cell_type": "code",
   "execution_count": null,
   "id": "65861772",
   "metadata": {},
   "outputs": [],
   "source": [
    "def main():\n",
    "    creating_folder(\"Ascombe_Quarter_Exercise\")\n",
    "    anscombe_df = acsombe_dataset_download()\n",
    "    ascombe_dataset_plots(anscombe_df)\n",
    "    ascombe_dataset_calculations(anscombe_df)"
   ]
  },
  {
   "cell_type": "code",
   "execution_count": null,
   "id": "32c19ba8",
   "metadata": {
    "scrolled": false
   },
   "outputs": [],
   "source": [
    "if __name__ == \"__main__\":\n",
    "    main()"
   ]
  },
  {
   "cell_type": "code",
   "execution_count": null,
   "id": "a306bb69",
   "metadata": {},
   "outputs": [],
   "source": []
  },
  {
   "cell_type": "code",
   "execution_count": null,
   "id": "caf5d5c4",
   "metadata": {},
   "outputs": [],
   "source": []
  }
 ],
 "metadata": {
  "kernelspec": {
   "display_name": "Python [conda env:pythonProject] *",
   "language": "python",
   "name": "conda-env-pythonProject-py"
  },
  "language_info": {
   "codemirror_mode": {
    "name": "ipython",
    "version": 3
   },
   "file_extension": ".py",
   "mimetype": "text/x-python",
   "name": "python",
   "nbconvert_exporter": "python",
   "pygments_lexer": "ipython3",
   "version": "3.8.8"
  }
 },
 "nbformat": 4,
 "nbformat_minor": 5
}
