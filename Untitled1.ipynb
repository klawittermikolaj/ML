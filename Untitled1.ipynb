{
 "cells": [
  {
   "cell_type": "code",
   "execution_count": 70,
   "id": "9f21a0e6",
   "metadata": {},
   "outputs": [],
   "source": [
    "import pandas as pd\n",
    "import numpy as np\n",
    "import sklearn\n",
    "import os\n",
    "import matplotlib.pyplot as plt\n",
    "from sklearn import linear_model\n",
    "from sklearn.metrics import accuracy_score\n",
    "from sklearn.model_selection import train_test_split\n",
    "from sklearn.datasets import load_diabetes\n",
    "from sklearn.dummy import DummyClassifier\n",
    "from sklearn.neighbors import KNeighborsClassifier\n",
    "from joblib import Memory\n",
    "from sklearn.preprocessing import StandardScaler\n",
    "from matplotlib.pyplot import scatter\n",
    "from sklearn.dummy import DummyRegressor\n",
    "from sklearn.linear_model import RidgeCV\n",
    "from sklearn.linear_model import LassoCV\n",
    "from sklearn.linear_model import Lasso\n",
    "from sklearn.metrics import r2_score\n",
    "from sklearn.linear_model import Ridge\n",
    "from sklearn.metrics import mean_squared_error\n",
    "from sklearn.linear_model import LinearRegression\n",
    "from sklearn.model_selection import KFold\n",
    "from sklearn.model_selection import cross_val_score"
   ]
  },
  {
   "cell_type": "code",
   "execution_count": 71,
   "id": "0d024b88",
   "metadata": {},
   "outputs": [],
   "source": [
    "data = load_diabetes()\n",
    "x, y = data.data, data.target"
   ]
  },
  {
   "cell_type": "code",
   "execution_count": 72,
   "id": "cfbc311a",
   "metadata": {},
   "outputs": [],
   "source": [
    "X_train, X_test, y_train, y_test = train_test_split(x, y)"
   ]
  },
  {
   "cell_type": "code",
   "execution_count": 73,
   "id": "edd57b60",
   "metadata": {},
   "outputs": [],
   "source": [
    "scaler = StandardScaler().fit(X_train)\n",
    "X_test_std = scaler.transform(X_test)\n",
    "X_train_std = scaler.transform(X_train)"
   ]
  },
  {
   "cell_type": "code",
   "execution_count": 74,
   "id": "4c3eb2a2",
   "metadata": {},
   "outputs": [
    {
     "name": "stdout",
     "output_type": "stream",
     "text": [
      "TRAIN: \n",
      " [  0   1   2   3   7   8   9  10  12  14  15  16  19  20  21  22  24  25\n",
      "  26  28  30  32  33  34  35  36  37  38  42  43  44  45  48  49  50  51\n",
      "  52  53  54  55  56  57  59  60  63  64  68  70  71  72  74  75  76  77\n",
      "  79  83  84  86  87  88  91  94  96  97  99 100 103 104 105 108 109 110\n",
      " 111 112 113 114 115 116 118 120 121 123 124 125 126 129 130 131 133 134\n",
      " 135 136 137 138 140 141 142 143 144 145 147 148 149 150 151 152 153 154\n",
      " 155 156 157 158 160 161 163 166 167 169 170 172 175 176 177 178 181 182\n",
      " 183 184 187 188 190 193 194 195 196 198 199 200 201 202 203 204 205 209\n",
      " 210 211 212 215 216 217 219 220 222 223 225 226 227 229 231 234 235 236\n",
      " 237 238 239 240 241 243 244 245 247 248 250 252 253 254 255 259 261 262\n",
      " 263 264 265 266 268 269 270 272 274 276 278 279 280 281 282 287 288 291\n",
      " 295 296 297 298 300 301 302 303 305 306 308 309 312 313 316 317 319 321\n",
      " 322 323 325 329 330 333 334 335 336 337 341 342 343 344 345 346 348 349\n",
      " 350 352 354 355 356 357 358 360 361 362 363 365 366 367 368 371 372 374\n",
      " 376 378 379 382 384 386 387 388 390 392 393 394 395 396 397 398 401 402\n",
      " 404 405 406 407 409 410 411 412 413 415 416 417 418 419 423 426 427 428\n",
      " 430 432 434 435 436 441] \n",
      " TEST: \n",
      " [  4   5   6  11  13  17  18  23  27  29  31  39  40  41  46  47  58  61\n",
      "  62  65  66  67  69  73  78  80  81  82  85  89  90  92  93  95  98 101\n",
      " 102 106 107 117 119 122 127 128 132 139 146 159 162 164 165 168 171 173\n",
      " 174 179 180 185 186 189 191 192 197 206 207 208 213 214 218 221 224 228\n",
      " 230 232 233 242 246 249 251 256 257 258 260 267 271 273 275 277 283 284\n",
      " 285 286 289 290 292 293 294 299 304 307 310 311 314 315 318 320 324 326\n",
      " 327 328 331 332 338 339 340 347 351 353 359 364 369 370 373 375 377 380\n",
      " 381 383 385 389 391 399 400 403 408 414 420 421 422 424 425 429 431 433\n",
      " 437 438 439 440]\n",
      "TRAIN: \n",
      " [  1   2   3   4   5   6   7  10  11  13  15  17  18  20  22  23  25  26\n",
      "  27  29  30  31  36  37  39  40  41  43  46  47  49  50  52  54  57  58\n",
      "  60  61  62  64  65  66  67  68  69  71  72  73  74  75  76  77  78  80\n",
      "  81  82  83  85  86  87  89  90  92  93  94  95  96  98 101 102 103 104\n",
      " 106 107 109 114 115 117 118 119 121 122 126 127 128 129 130 132 133 136\n",
      " 139 140 141 143 144 146 148 149 151 152 153 155 156 159 162 164 165 166\n",
      " 168 170 171 173 174 176 178 179 180 182 183 185 186 189 190 191 192 193\n",
      " 194 195 196 197 198 200 202 203 206 207 208 209 210 213 214 215 216 218\n",
      " 220 221 224 226 228 230 232 233 235 237 239 240 241 242 243 246 249 251\n",
      " 252 253 254 255 256 257 258 259 260 262 263 264 265 266 267 269 271 273\n",
      " 275 276 277 278 279 280 281 282 283 284 285 286 288 289 290 292 293 294\n",
      " 297 299 301 302 304 307 308 310 311 313 314 315 316 317 318 319 320 321\n",
      " 324 326 327 328 329 331 332 333 334 335 336 338 339 340 347 348 351 352\n",
      " 353 356 357 358 359 364 366 367 369 370 371 373 375 377 379 380 381 383\n",
      " 384 385 386 387 389 390 391 392 393 394 395 396 398 399 400 402 403 404\n",
      " 405 406 408 410 413 414 417 420 421 422 423 424 425 427 428 429 430 431\n",
      " 433 435 436 437 438 439 440] \n",
      " TEST: \n",
      " [  0   8   9  12  14  16  19  21  24  28  32  33  34  35  38  42  44  45\n",
      "  48  51  53  55  56  59  63  70  79  84  88  91  97  99 100 105 108 110\n",
      " 111 112 113 116 120 123 124 125 131 134 135 137 138 142 145 147 150 154\n",
      " 157 158 160 161 163 167 169 172 175 177 181 184 187 188 199 201 204 205\n",
      " 211 212 217 219 222 223 225 227 229 231 234 236 238 244 245 247 248 250\n",
      " 261 268 270 272 274 287 291 295 296 298 300 303 305 306 309 312 322 323\n",
      " 325 330 337 341 342 343 344 345 346 349 350 354 355 360 361 362 363 365\n",
      " 368 372 374 376 378 382 388 397 401 407 409 411 412 415 416 418 419 426\n",
      " 432 434 441]\n",
      "TRAIN: \n",
      " [  0   4   5   6   8   9  11  12  13  14  16  17  18  19  21  23  24  27\n",
      "  28  29  31  32  33  34  35  38  39  40  41  42  44  45  46  47  48  51\n",
      "  53  55  56  58  59  61  62  63  65  66  67  69  70  73  78  79  80  81\n",
      "  82  84  85  88  89  90  91  92  93  95  97  98  99 100 101 102 105 106\n",
      " 107 108 110 111 112 113 116 117 119 120 122 123 124 125 127 128 131 132\n",
      " 134 135 137 138 139 142 145 146 147 150 154 157 158 159 160 161 162 163\n",
      " 164 165 167 168 169 171 172 173 174 175 177 179 180 181 184 185 186 187\n",
      " 188 189 191 192 197 199 201 204 205 206 207 208 211 212 213 214 217 218\n",
      " 219 221 222 223 224 225 227 228 229 230 231 232 233 234 236 238 242 244\n",
      " 245 246 247 248 249 250 251 256 257 258 260 261 267 268 270 271 272 273\n",
      " 274 275 277 283 284 285 286 287 289 290 291 292 293 294 295 296 298 299\n",
      " 300 303 304 305 306 307 309 310 311 312 314 315 318 320 322 323 324 325\n",
      " 326 327 328 330 331 332 337 338 339 340 341 342 343 344 345 346 347 349\n",
      " 350 351 353 354 355 359 360 361 362 363 364 365 368 369 370 372 373 374\n",
      " 375 376 377 378 380 381 382 383 385 388 389 391 397 399 400 401 403 407\n",
      " 408 409 411 412 414 415 416 418 419 420 421 422 424 425 426 429 431 432\n",
      " 433 434 437 438 439 440 441] \n",
      " TEST: \n",
      " [  1   2   3   7  10  15  20  22  25  26  30  36  37  43  49  50  52  54\n",
      "  57  60  64  68  71  72  74  75  76  77  83  86  87  94  96 103 104 109\n",
      " 114 115 118 121 126 129 130 133 136 140 141 143 144 148 149 151 152 153\n",
      " 155 156 166 170 176 178 182 183 190 193 194 195 196 198 200 202 203 209\n",
      " 210 215 216 220 226 235 237 239 240 241 243 252 253 254 255 259 262 263\n",
      " 264 265 266 269 276 278 279 280 281 282 288 297 301 302 308 313 316 317\n",
      " 319 321 329 333 334 335 336 348 352 356 357 358 366 367 371 379 384 386\n",
      " 387 390 392 393 394 395 396 398 402 404 405 406 410 413 417 423 427 428\n",
      " 430 435 436]\n"
     ]
    }
   ],
   "source": [
    "#https://scikit-learn.org/stable/modules/generated/sklearn.model_selection.KFold.html\n",
    "kf = KFold(n_splits = 3, shuffle = True, random_state = 1)\n",
    "for train_index, test_index in kf.split(x):\n",
    "        print(\"TRAIN: \\n\", train_index, \"\\n\", \"TEST: \\n\", test_index)\n",
    "        X_train, X_test = x[train_index], x[test_index]\n",
    "        y_train, y_test = y[train_index], y[test_index]"
   ]
  },
  {
   "cell_type": "code",
   "execution_count": 75,
   "id": "0d190362",
   "metadata": {},
   "outputs": [],
   "source": [
    "def score_by_fold():\n",
    "    # lasso instance and parameters\n",
    "    alphas = np.logspace(-4, -0.5, 30)\n",
    "\n",
    "    lasso_cv = LassoCV(alphas=alphas, random_state=0, max_iter=10000)\n",
    "    k_fold = KFold(10)\n",
    "    for k, (train, test) in enumerate(k_fold.split(x, y)):\n",
    "        lasso_cv.fit(x[train], y[train])\n",
    "        print(k, lasso_cv.alpha_, lasso_cv.score(x[test], y[test]))"
   ]
  },
  {
   "cell_type": "code",
   "execution_count": 76,
   "id": "6ab4876a",
   "metadata": {},
   "outputs": [
    {
     "name": "stdout",
     "output_type": "stream",
     "text": [
      "0 0.07880462815669913 0.5230435282533477\n",
      "1 0.05968456995122311 0.24481536685622396\n",
      "2 0.0001 0.35382092959998723\n",
      "3 0.04520353656360245 0.6050679857248777\n",
      "4 0.05968456995122311 0.27436767129003514\n",
      "5 0.0037065129109221566 0.6218191590431197\n",
      "6 0.0001 0.418309774275902\n",
      "7 0.03423597957607583 0.43149099777307875\n",
      "8 0.04520353656360245 0.42585403749603024\n",
      "9 0.008531678524172814 0.6827010716027995\n",
      "Wall time: 367 ms\n"
     ]
    }
   ],
   "source": [
    "#https://jakevdp.github.io/PythonDataScienceHandbook/01.07-timing-and-profiling.html\n",
    "%time score_by_fold()"
   ]
  },
  {
   "cell_type": "code",
   "execution_count": 77,
   "id": "c535fe88",
   "metadata": {},
   "outputs": [],
   "source": [
    "#https://scikit-learn.org/stable/modules/generated/sklearn.model_selection.cross_val_score.html\n",
    "def my_cross_val():\n",
    "    list = [3, 5, 10] #cv = 3 ; cv = 5; cv = 10\n",
    "    lasso = Lasso()\n",
    "    \n",
    "    for n in list:\n",
    "        print(cross_val_score(lasso, x, y, cv=n))\n",
    "        print(\"Max: \", max(cross_val_score(lasso, x, y, cv=n)), \"\\n\")"
   ]
  },
  {
   "cell_type": "code",
   "execution_count": 78,
   "id": "ad662187",
   "metadata": {},
   "outputs": [
    {
     "name": "stdout",
     "output_type": "stream",
     "text": [
      "[0.34542985 0.34712314 0.36884726]\n",
      "Max:  0.36884725706191346 \n",
      "\n",
      "[0.28349047 0.35157959 0.3533813  0.33481474 0.36453281]\n",
      "Max:  0.36453281428665385 \n",
      "\n",
      "[0.37566102 0.10727689 0.30374655 0.38050755 0.22515853 0.41506179\n",
      " 0.30380439 0.34876534 0.32262628 0.42874276]\n",
      "Max:  0.4287427630907267 \n",
      "\n",
      "Wall time: 59 ms\n"
     ]
    }
   ],
   "source": [
    "#https://jakevdp.github.io/PythonDataScienceHandbook/01.07-timing-and-profiling.html\n",
    "%time my_cross_val()"
   ]
  },
  {
   "cell_type": "code",
   "execution_count": 79,
   "id": "ab0bfe4b",
   "metadata": {},
   "outputs": [
    {
     "name": "stdout",
     "output_type": "stream",
     "text": [
      "---------------------------------------------------------------------------\n"
     ]
    }
   ],
   "source": [
    "print(\"---------------------------------------------------------------------------\")"
   ]
  },
  {
   "cell_type": "code",
   "execution_count": 80,
   "id": "d816c200",
   "metadata": {},
   "outputs": [
    {
     "name": "stdout",
     "output_type": "stream",
     "text": [
      "Dummy regression for R^2 0.0\n",
      "Dummy regression for RMSE 74.83065148804492\n",
      "Linear regression for R^2 0.5006299763691243\n",
      "Linear regression for RMSE 52.576105773603004\n",
      "LassoCV = 0.40050426939292\n",
      "RidgeCV = 0.40457524692110\n",
      "Cross val score cv equal 3 = 0.36884725706191346\n",
      "Cross val score cv equal 5 = 0.36453281428665385\n",
      "Cross val score cv equal 10 = 0.4287427630907267\n"
     ]
    }
   ],
   "source": [
    "print(\"Dummy regression for R^2 0.0\")\n",
    "print(\"Dummy regression for RMSE 74.83065148804492\")\n",
    "print(\"Linear regression for R^2 0.5006299763691243\")\n",
    "print(\"Linear regression for RMSE 52.576105773603004\")\n",
    "print(\"LassoCV = 0.40050426939292\")\n",
    "print(\"RidgeCV = 0.40457524692110\")\n",
    "print(\"Cross val score cv equal 3 = 0.36884725706191346\")\n",
    "print(\"Cross val score cv equal 5 = 0.36453281428665385\")\n",
    "print(\"Cross val score cv equal 10 = 0.4287427630907267\")"
   ]
  },
  {
   "cell_type": "code",
   "execution_count": null,
   "id": "7bfb8f5f",
   "metadata": {},
   "outputs": [],
   "source": []
  }
 ],
 "metadata": {
  "kernelspec": {
   "display_name": "Python [conda env:pythonProject] *",
   "language": "python",
   "name": "conda-env-pythonProject-py"
  },
  "language_info": {
   "codemirror_mode": {
    "name": "ipython",
    "version": 3
   },
   "file_extension": ".py",
   "mimetype": "text/x-python",
   "name": "python",
   "nbconvert_exporter": "python",
   "pygments_lexer": "ipython3",
   "version": "3.8.8"
  }
 },
 "nbformat": 4,
 "nbformat_minor": 5
}
