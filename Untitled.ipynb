{
 "cells": [
  {
   "cell_type": "code",
   "execution_count": 33,
   "id": "a9eed9e2",
   "metadata": {},
   "outputs": [],
   "source": [
    "import pandas as pd\n",
    "import numpy as np\n",
    "import sklearn\n",
    "import os\n",
    "import matplotlib.pyplot as plt\n",
    "from sklearn import linear_model\n",
    "from sklearn.metrics import accuracy_score\n",
    "from sklearn.model_selection import train_test_split\n",
    "from sklearn.datasets import load_diabetes\n",
    "from sklearn.dummy import DummyClassifier\n",
    "from sklearn.neighbors import KNeighborsClassifier\n",
    "from joblib import Memory\n",
    "from sklearn.preprocessing import StandardScaler\n",
    "from matplotlib.pyplot import scatter\n",
    "from sklearn.dummy import DummyRegressor\n",
    "from sklearn.linear_model import RidgeCV\n",
    "from sklearn.metrics import r2_score\n",
    "from sklearn.linear_model import Ridge\n",
    "from sklearn.metrics import mean_squared_error\n",
    "from sklearn.linear_model import LinearRegression"
   ]
  },
  {
   "cell_type": "code",
   "execution_count": 34,
   "id": "edb9f106",
   "metadata": {},
   "outputs": [],
   "source": [
    "data = load_diabetes()\n",
    "x, y = data.data, data.target"
   ]
  },
  {
   "cell_type": "code",
   "execution_count": 35,
   "id": "034a3dd3",
   "metadata": {},
   "outputs": [],
   "source": [
    "X_train, X_test, y_train, y_test = train_test_split(x, y)"
   ]
  },
  {
   "cell_type": "code",
   "execution_count": 36,
   "id": "ac35e75e",
   "metadata": {},
   "outputs": [],
   "source": [
    "scaler = StandardScaler().fit(X_train)\n",
    "X_test_std = scaler.transform(X_test)\n",
    "X_train_std = scaler.transform(X_train)"
   ]
  },
  {
   "cell_type": "code",
   "execution_count": 37,
   "id": "276687bc",
   "metadata": {},
   "outputs": [
    {
     "name": "stdout",
     "output_type": "stream",
     "text": [
      "Dummy regression for R^2 0.0\n"
     ]
    }
   ],
   "source": [
    "dummy_regr = DummyRegressor()\n",
    "dummy_regr.fit(X_train, y_train)\n",
    "DummyRegressor()\n",
    "dummy_regr.predict(X_train)\n",
    "print(f\"Dummy regression for R^2\", dummy_regr.score(X_train, y_train))"
   ]
  },
  {
   "cell_type": "code",
   "execution_count": 38,
   "id": "6520ac6e",
   "metadata": {},
   "outputs": [
    {
     "name": "stdout",
     "output_type": "stream",
     "text": [
      "Dummy regression for RMSE 74.83065148804492\n"
     ]
    }
   ],
   "source": [
    "y_preds = dummy_regr.predict(X_test)\n",
    "print(f\"Dummy regression for RMSE\", mean_squared_error(y_test, y_preds, squared=False))"
   ]
  },
  {
   "cell_type": "code",
   "execution_count": 39,
   "id": "23c90a40",
   "metadata": {},
   "outputs": [
    {
     "name": "stdout",
     "output_type": "stream",
     "text": [
      "Linear regression for R^2 0.5006299763691243\n"
     ]
    }
   ],
   "source": [
    "reg = LinearRegression().fit(X_train, y_train)\n",
    "print(f\"Linear regression for R^2\", reg.score(X_test, y_test))"
   ]
  },
  {
   "cell_type": "code",
   "execution_count": 40,
   "id": "3560271f",
   "metadata": {},
   "outputs": [
    {
     "name": "stdout",
     "output_type": "stream",
     "text": [
      "Linear regression for RMSE 52.576105773603004\n"
     ]
    }
   ],
   "source": [
    "y_preds = reg.predict(X_test)\n",
    "print(f\"Linear regression for RMSE\", mean_squared_error(y_test, y_preds, squared=False))"
   ]
  },
  {
   "cell_type": "code",
   "execution_count": 41,
   "id": "f7aea7ec",
   "metadata": {},
   "outputs": [],
   "source": [
    "N = 20\n",
    "alpha = np.logspace(0, 1, N, endpoint=True)\n",
    "lasso_r2 = []\n",
    "lasso_rmse = []"
   ]
  },
  {
   "cell_type": "code",
   "execution_count": 42,
   "id": "861457fb",
   "metadata": {
    "scrolled": true
   },
   "outputs": [
    {
     "name": "stdout",
     "output_type": "stream",
     "text": [
      "\n",
      "Alpha = 1.0\n",
      "\n",
      "R2, RMSE - Test lasso\n",
      "0.37994414757752426\n",
      "58.585829931806714\n",
      "\n",
      "Alpha = 1.128837891684689\n",
      "\n",
      "R2, RMSE - Test lasso\n",
      "0.3478080375536632\n",
      "60.084839058702485\n",
      "\n",
      "Alpha = 1.2742749857031337\n",
      "\n",
      "R2, RMSE - Test lasso\n",
      "0.30830828429010615\n",
      "61.87760106690642\n",
      "\n",
      "Alpha = 1.4384498882876628\n",
      "\n",
      "R2, RMSE - Test lasso\n",
      "0.2573080431424324\n",
      "64.1182324158626\n",
      "\n",
      "Alpha = 1.6237767391887217\n",
      "\n",
      "R2, RMSE - Test lasso\n",
      "0.19156851583755208\n",
      "66.89579054511618\n",
      "\n",
      "Alpha = 1.8329807108324359\n",
      "\n",
      "R2, RMSE - Test lasso\n",
      "0.10695070364462145\n",
      "70.30964374335498\n",
      "\n",
      "Alpha = 2.0691380811147897\n",
      "\n",
      "R2, RMSE - Test lasso\n",
      "-0.0004029120811577247\n",
      "74.41571428135623\n",
      "\n",
      "Alpha = 2.3357214690901222\n",
      "\n",
      "R2, RMSE - Test lasso\n",
      "-0.011590379446846821\n",
      "74.83065148804492\n",
      "\n",
      "Alpha = 2.636650898730358\n",
      "\n",
      "R2, RMSE - Test lasso\n",
      "-0.011590379446846821\n",
      "74.83065148804492\n",
      "\n",
      "Alpha = 2.976351441631318\n",
      "\n",
      "R2, RMSE - Test lasso\n",
      "-0.011590379446846821\n",
      "74.83065148804492\n",
      "\n",
      "Alpha = 3.3598182862837818\n",
      "\n",
      "R2, RMSE - Test lasso\n",
      "-0.011590379446846821\n",
      "74.83065148804492\n",
      "\n",
      "Alpha = 3.79269019073225\n",
      "\n",
      "R2, RMSE - Test lasso\n",
      "-0.011590379446846821\n",
      "74.83065148804492\n",
      "\n",
      "Alpha = 4.281332398719393\n",
      "\n",
      "R2, RMSE - Test lasso\n",
      "-0.011590379446846821\n",
      "74.83065148804492\n",
      "\n",
      "Alpha = 4.832930238571752\n",
      "\n",
      "R2, RMSE - Test lasso\n",
      "-0.011590379446846821\n",
      "74.83065148804492\n",
      "\n",
      "Alpha = 5.455594781168519\n",
      "\n",
      "R2, RMSE - Test lasso\n",
      "-0.011590379446846821\n",
      "74.83065148804492\n",
      "\n",
      "Alpha = 6.158482110660264\n",
      "\n",
      "R2, RMSE - Test lasso\n",
      "-0.011590379446846821\n",
      "74.83065148804492\n",
      "\n",
      "Alpha = 6.951927961775605\n",
      "\n",
      "R2, RMSE - Test lasso\n",
      "-0.011590379446846821\n",
      "74.83065148804492\n",
      "\n",
      "Alpha = 7.847599703514611\n",
      "\n",
      "R2, RMSE - Test lasso\n",
      "-0.011590379446846821\n",
      "74.83065148804492\n",
      "\n",
      "Alpha = 8.858667904100825\n",
      "\n",
      "R2, RMSE - Test lasso\n",
      "-0.011590379446846821\n",
      "74.83065148804492\n",
      "\n",
      "Alpha = 10.0\n",
      "\n",
      "R2, RMSE - Test lasso\n",
      "-0.011590379446846821\n",
      "74.83065148804492\n"
     ]
    }
   ],
   "source": [
    "for i in alpha:\n",
    "    print('\\nAlpha = ' + str(i))\n",
    "    model_lasso = linear_model.Lasso(i)\n",
    "    model_lasso.fit(X_train, y_train)\n",
    "    \n",
    "    pred_test_lasso= model_lasso.predict(X_test)\n",
    "    print ('\\nR2, RMSE - Test lasso')\n",
    "    lasso_r2.append(r2_score(y_test, pred_test_lasso))\n",
    "    print(r2_score(y_test, pred_test_lasso))\n",
    "    lasso_rmse.append(np.sqrt(mean_squared_error(y_test, pred_test_lasso)))\n",
    "    print(np.sqrt(mean_squared_error(y_test, pred_test_lasso)))"
   ]
  },
  {
   "cell_type": "code",
   "execution_count": 43,
   "id": "a365ad04",
   "metadata": {},
   "outputs": [],
   "source": [
    "ridge_r2 = []\n",
    "ridge_rmse = []"
   ]
  },
  {
   "cell_type": "code",
   "execution_count": 44,
   "id": "1b4a6e7f",
   "metadata": {},
   "outputs": [
    {
     "name": "stdout",
     "output_type": "stream",
     "text": [
      "\n",
      "Alpha = 1.0\n",
      "\n",
      "R2, RMSE - Test ridge\n",
      "0.46092948854207627\n",
      "54.626071497042425\n",
      "\n",
      "Alpha = 1.128837891684689\n",
      "\n",
      "R2, RMSE - Test ridge\n",
      "0.45233143439500867\n",
      "55.059984950304475\n",
      "\n",
      "Alpha = 1.2742749857031337\n",
      "\n",
      "R2, RMSE - Test ridge\n",
      "0.4428407039274759\n",
      "55.5350121964752\n",
      "\n",
      "Alpha = 1.4384498882876628\n",
      "\n",
      "R2, RMSE - Test ridge\n",
      "0.432457128152289\n",
      "56.05011626596225\n",
      "\n",
      "Alpha = 1.6237767391887217\n",
      "\n",
      "R2, RMSE - Test ridge\n",
      "0.42119147805516177\n",
      "56.60367639627568\n",
      "\n",
      "Alpha = 1.8329807108324359\n",
      "\n",
      "R2, RMSE - Test ridge\n",
      "0.4090656901627905\n",
      "57.19351445011388\n",
      "\n",
      "Alpha = 2.0691380811147897\n",
      "\n",
      "R2, RMSE - Test ridge\n",
      "0.39611309661466954\n",
      "57.816924556500865\n",
      "\n",
      "Alpha = 2.3357214690901222\n",
      "\n",
      "R2, RMSE - Test ridge\n",
      "0.3823786905537657\n",
      "58.47070320691588\n",
      "\n",
      "Alpha = 2.636650898730358\n",
      "\n",
      "R2, RMSE - Test ridge\n",
      "0.36791939934319273\n",
      "59.151179874649394\n",
      "\n",
      "Alpha = 2.976351441631318\n",
      "\n",
      "R2, RMSE - Test ridge\n",
      "0.35280427628981836\n",
      "59.854251009780164\n",
      "\n",
      "Alpha = 3.3598182862837818\n",
      "\n",
      "R2, RMSE - Test ridge\n",
      "0.3371144719546748\n",
      "60.57542222135259\n",
      "\n",
      "Alpha = 3.79269019073225\n",
      "\n",
      "R2, RMSE - Test ridge\n",
      "0.32094282294427434\n",
      "61.30986402315509\n",
      "\n",
      "Alpha = 4.281332398719393\n",
      "\n",
      "R2, RMSE - Test ridge\n",
      "0.3043929081541915\n",
      "62.05248547789545\n",
      "\n",
      "Alpha = 4.832930238571752\n",
      "\n",
      "R2, RMSE - Test ridge\n",
      "0.28757747068915784\n",
      "62.798027626361694\n",
      "\n",
      "Alpha = 5.455594781168519\n",
      "\n",
      "R2, RMSE - Test ridge\n",
      "0.2706161805096199\n",
      "63.541175285045\n",
      "\n",
      "Alpha = 6.158482110660264\n",
      "\n",
      "R2, RMSE - Test ridge\n",
      "0.25363280382003495\n",
      "64.27668238656152\n",
      "\n",
      "Alpha = 6.951927961775605\n",
      "\n",
      "R2, RMSE - Test ridge\n",
      "0.23675193256731653\n",
      "64.99950326773535\n",
      "\n",
      "Alpha = 7.847599703514611\n",
      "\n",
      "R2, RMSE - Test ridge\n",
      "0.22009549441173604\n",
      "65.70492073812986\n",
      "\n",
      "Alpha = 8.858667904100825\n",
      "\n",
      "R2, RMSE - Test ridge\n",
      "0.20377929830082053\n",
      "66.38866163983478\n",
      "\n",
      "Alpha = 10.0\n",
      "\n",
      "R2, RMSE - Test ridge\n",
      "0.18790986869484416\n",
      "67.04699186138731\n"
     ]
    }
   ],
   "source": [
    "for i in alpha:\n",
    "    print('\\nAlpha = ' + str(i))\n",
    "    model_ridge = Ridge(alpha=i, normalize=True)\n",
    "    model_ridge.fit(X_train, y_train)\n",
    "    pred_test_ridge= model_ridge.predict(X_test)\n",
    "    print ('\\nR2, RMSE - Test ridge')\n",
    "    ridge_r2.append(r2_score(y_test, pred_test_ridge))\n",
    "    print(r2_score(y_test, pred_test_ridge))\n",
    "    ridge_rmse.append(np.sqrt(mean_squared_error(y_test,pred_test_ridge)))\n",
    "    print(np.sqrt(mean_squared_error(y_test,pred_test_ridge))) \n"
   ]
  },
  {
   "cell_type": "code",
   "execution_count": null,
   "id": "5b77ce6f",
   "metadata": {},
   "outputs": [],
   "source": []
  }
 ],
 "metadata": {
  "kernelspec": {
   "display_name": "Python [conda env:pythonProject] *",
   "language": "python",
   "name": "conda-env-pythonProject-py"
  },
  "language_info": {
   "codemirror_mode": {
    "name": "ipython",
    "version": 3
   },
   "file_extension": ".py",
   "mimetype": "text/x-python",
   "name": "python",
   "nbconvert_exporter": "python",
   "pygments_lexer": "ipython3",
   "version": "3.8.8"
  }
 },
 "nbformat": 4,
 "nbformat_minor": 5
}
